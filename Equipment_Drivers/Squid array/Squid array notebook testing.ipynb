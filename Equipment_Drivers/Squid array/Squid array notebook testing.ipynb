{
 "cells": [
  {
   "cell_type": "code",
   "execution_count": 2,
   "metadata": {
    "collapsed": false
   },
   "outputs": [],
   "source": [
    "from squidarray import *\n",
    "import time\n"
   ]
  },
  {
   "cell_type": "code",
   "execution_count": 5,
   "metadata": {
    "collapsed": false
   },
   "outputs": [],
   "source": [
    "pci = PCI100('COM1')\n",
    "pfl = PFL102(1,pci,1)\n",
    "\n",
    "pfl.testSignal = 'On'\n",
    "pfl.testInput = 'A_flux'"
   ]
  },
  {
   "cell_type": "code",
   "execution_count": null,
   "metadata": {
    "collapsed": false
   },
   "outputs": [],
   "source": [
    "for i in range(100):\n",
    "    pfl.A_bias = 45e-6/100*i\n",
    "    time.sleep(0.1)\n",
    "for i in range(100):\n",
    "    pfl.A_bias = 45e-6-(45e-6/100*i)\n",
    "    time.sleep(0.1)"
   ]
  },
  {
   "cell_type": "code",
   "execution_count": null,
   "metadata": {
    "collapsed": false
   },
   "outputs": [],
   "source": [
    "pfl.A_bias = 39e-6\n",
    "for i in range(100):\n",
    "    pfl.A_flux = 45e-6/100*i\n",
    "    time.sleep(0.1)\n",
    "for i in range(100):\n",
    "    pfl.A_flux = 45e-6-(45e-6/100*i)\n",
    "    time.sleep(0.1)"
   ]
  },
  {
   "cell_type": "code",
   "execution_count": null,
   "metadata": {
    "collapsed": false
   },
   "outputs": [],
   "source": [
    "pfl.offset = 0.3e-3"
   ]
  },
  {
   "cell_type": "code",
   "execution_count": null,
   "metadata": {
    "collapsed": true
   },
   "outputs": [],
   "source": [
    "pfl.lock('array')"
   ]
  },
  {
   "cell_type": "code",
   "execution_count": 4,
   "metadata": {
    "collapsed": true
   },
   "outputs": [],
   "source": [
    "for i in range(100):\n",
    "    pfl.A_flux = 45e-6/100*i\n",
    "    time.sleep(0.1)\n",
    "for i in range(100):\n",
    "    pfl.A_flux = 45e-6-(45e-6/100*i)\n",
    "    time.sleep(0.1)"
   ]
  },
  {
   "cell_type": "code",
   "execution_count": 4,
   "metadata": {
    "collapsed": false
   },
   "outputs": [],
   "source": [
    "pfl.A_bias = 39\n",
    "pfl.A_flux = 10\n",
    "pfl.offset = 0.3\n",
    "time.sleep(1)\n",
    "pfl.lock('array')\n",
    "time.sleep(1)\n",
    "\n",
    "# pfl.heat(0.2, 5)\n",
    "# print(pfl.A_bias, pfl.A_flux, pfl.S_bias, pfl.S_flux)"
   ]
  },
  {
   "cell_type": "code",
   "execution_count": 5,
   "metadata": {
    "collapsed": true
   },
   "outputs": [],
   "source": [
    "pfl.reset()"
   ]
  },
  {
   "cell_type": "code",
   "execution_count": 11,
   "metadata": {
    "collapsed": false
   },
   "outputs": [],
   "source": [
    "pfl.testSignal = 'On'"
   ]
  },
  {
   "cell_type": "code",
   "execution_count": 20,
   "metadata": {
    "collapsed": false
   },
   "outputs": [],
   "source": [
    "pfl.sensitivity = 'high'"
   ]
  },
  {
   "cell_type": "code",
   "execution_count": 38,
   "metadata": {
    "collapsed": false
   },
   "outputs": [],
   "source": [
    "pfl.testInput = 'A_flux'\n",
    "pfl.lock('array')\n",
    "pfl.offset = 0\n",
    "pfl.offset\n",
    "pfl.tune()"
   ]
  },
  {
   "cell_type": "code",
   "execution_count": 30,
   "metadata": {
    "collapsed": false
   },
   "outputs": [],
   "source": [
    "pci.instrument.close()"
   ]
  },
  {
   "cell_type": "code",
   "execution_count": 10,
   "metadata": {
    "collapsed": false
   },
   "outputs": [],
   "source": [
    "pfl.tune()\n",
    "pfl.offset = 0.0002"
   ]
  },
  {
   "cell_type": "code",
   "execution_count": 9,
   "metadata": {
    "collapsed": false
   },
   "outputs": [],
   "source": [
    "pfl.lock('array')"
   ]
  },
  {
   "cell_type": "code",
   "execution_count": 3,
   "metadata": {
    "collapsed": false
   },
   "outputs": [],
   "source": [
    "pfl.S_bias?"
   ]
  },
  {
   "cell_type": "code",
   "execution_count": null,
   "metadata": {
    "collapsed": true
   },
   "outputs": [],
   "source": []
  }
 ],
 "metadata": {
  "kernelspec": {
   "display_name": "Python 3",
   "language": "python",
   "name": "python3"
  },
  "language_info": {
   "codemirror_mode": {
    "name": "ipython",
    "version": 3
   },
   "file_extension": ".py",
   "mimetype": "text/x-python",
   "name": "python",
   "nbconvert_exporter": "python",
   "pygments_lexer": "ipython3",
   "version": "3.5.1"
  }
 },
 "nbformat": 4,
 "nbformat_minor": 0
}
